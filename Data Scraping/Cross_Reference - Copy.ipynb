{
 "cells": [
  {
   "cell_type": "code",
   "execution_count": 1,
   "id": "6a0b2d80",
   "metadata": {},
   "outputs": [],
   "source": [
    "import requests\n",
    "import lxml\n",
    "import time\n",
    "import random\n",
    "import os\n",
    "\n",
    "import pandas as pd\n",
    "\n",
    "from bs4 import BeautifulSoup\n",
    "from selenium import webdriver\n",
    "from selenium.webdriver.chrome.service import Service as ChromeService\n",
    "from webdriver_manager.chrome import ChromeDriverManager\n",
    "from selenium.webdriver.common.by import By"
   ]
  },
  {
   "cell_type": "code",
   "execution_count": 2,
   "id": "38b6c800",
   "metadata": {},
   "outputs": [],
   "source": [
    "get1 = pd.read_csv('get3.csv')"
   ]
  },
  {
   "cell_type": "code",
   "execution_count": 3,
   "id": "cce0eba4",
   "metadata": {
    "scrolled": false
   },
   "outputs": [
    {
     "name": "stderr",
     "output_type": "stream",
     "text": [
      "C:\\Users\\Simon\\AppData\\Local\\Temp\\ipykernel_12748\\2851160434.py:3: DeprecationWarning: executable_path has been deprecated, please pass in a Service object\n",
      "  driver = webdriver.Chrome(ChromeDriverManager().install())\n",
      "C:\\Users\\Simon\\AppData\\Local\\Temp\\ipykernel_12748\\2851160434.py:34: DeprecationWarning: find_element_by_link_text is deprecated. Please use find_element(by=By.LINK_TEXT, value=link_text) instead\n",
      "  driver.find_element_by_link_text(pubs.loc[i, 'titles']).click()\n"
     ]
    },
    {
     "ename": "KeyboardInterrupt",
     "evalue": "",
     "output_type": "error",
     "traceback": [
      "\u001b[1;31m---------------------------------------------------------------------------\u001b[0m",
      "\u001b[1;31mKeyboardInterrupt\u001b[0m                         Traceback (most recent call last)",
      "\u001b[1;32m~\\AppData\\Local\\Temp\\ipykernel_12748\\2851160434.py\u001b[0m in \u001b[0;36m<module>\u001b[1;34m\u001b[0m\n\u001b[0;32m     45\u001b[0m         \u001b[1;32mif\u001b[0m \u001b[0msoup\u001b[0m\u001b[1;33m.\u001b[0m\u001b[0mfind_all\u001b[0m\u001b[1;33m(\u001b[0m\u001b[1;34m'div'\u001b[0m\u001b[1;33m,\u001b[0m \u001b[1;33m{\u001b[0m\u001b[1;34m\"style\"\u001b[0m\u001b[1;33m:\u001b[0m \u001b[1;34m\"margin-bottom:1em\"\u001b[0m\u001b[1;33m}\u001b[0m\u001b[1;33m)\u001b[0m\u001b[1;33m:\u001b[0m\u001b[1;33m\u001b[0m\u001b[1;33m\u001b[0m\u001b[0m\n\u001b[0;32m     46\u001b[0m             \u001b[0mpubs\u001b[0m\u001b[1;33m.\u001b[0m\u001b[0mloc\u001b[0m\u001b[1;33m[\u001b[0m\u001b[0mi\u001b[0m\u001b[1;33m,\u001b[0m \u001b[1;34m'citations'\u001b[0m\u001b[1;33m]\u001b[0m \u001b[1;33m=\u001b[0m \u001b[0msoup\u001b[0m\u001b[1;33m.\u001b[0m\u001b[0mfind_all\u001b[0m\u001b[1;33m(\u001b[0m\u001b[1;34m'div'\u001b[0m\u001b[1;33m,\u001b[0m \u001b[1;33m{\u001b[0m\u001b[1;34m\"style\"\u001b[0m\u001b[1;33m:\u001b[0m \u001b[1;34m\"margin-bottom:1em\"\u001b[0m\u001b[1;33m}\u001b[0m\u001b[1;33m)\u001b[0m\u001b[1;33m[\u001b[0m\u001b[1;36m0\u001b[0m\u001b[1;33m]\u001b[0m\u001b[1;33m.\u001b[0m\u001b[0mtext\u001b[0m\u001b[1;33m[\u001b[0m\u001b[1;36m9\u001b[0m\u001b[1;33m:\u001b[0m\u001b[1;33m]\u001b[0m\u001b[1;33m\u001b[0m\u001b[1;33m\u001b[0m\u001b[0m\n\u001b[1;32m---> 47\u001b[1;33m         \u001b[0mtime\u001b[0m\u001b[1;33m.\u001b[0m\u001b[0msleep\u001b[0m\u001b[1;33m(\u001b[0m\u001b[0mrandom\u001b[0m\u001b[1;33m.\u001b[0m\u001b[0muniform\u001b[0m\u001b[1;33m(\u001b[0m\u001b[1;36m1\u001b[0m\u001b[1;33m,\u001b[0m \u001b[1;36m2\u001b[0m\u001b[1;33m)\u001b[0m\u001b[1;33m)\u001b[0m\u001b[1;33m\u001b[0m\u001b[1;33m\u001b[0m\u001b[0m\n\u001b[0m\u001b[0;32m     48\u001b[0m         \u001b[0mdriver\u001b[0m\u001b[1;33m.\u001b[0m\u001b[0mback\u001b[0m\u001b[1;33m(\u001b[0m\u001b[1;33m)\u001b[0m\u001b[1;33m\u001b[0m\u001b[1;33m\u001b[0m\u001b[0m\n\u001b[0;32m     49\u001b[0m     \u001b[0mpubs\u001b[0m\u001b[1;33m.\u001b[0m\u001b[0mto_csv\u001b[0m\u001b[1;33m(\u001b[0m\u001b[0mget1\u001b[0m\u001b[1;33m.\u001b[0m\u001b[0mloc\u001b[0m\u001b[1;33m[\u001b[0m\u001b[0mj\u001b[0m\u001b[1;33m,\u001b[0m \u001b[1;34m'names'\u001b[0m\u001b[1;33m]\u001b[0m \u001b[1;33m+\u001b[0m \u001b[1;34m'.csv'\u001b[0m\u001b[1;33m,\u001b[0m \u001b[0mindex\u001b[0m\u001b[1;33m=\u001b[0m\u001b[1;32mFalse\u001b[0m\u001b[1;33m)\u001b[0m\u001b[1;33m\u001b[0m\u001b[1;33m\u001b[0m\u001b[0m\n",
      "\u001b[1;31mKeyboardInterrupt\u001b[0m: "
     ]
    }
   ],
   "source": [
    "#pub list\n",
    "# driver = webdriver.Chrome(executable_path='C:\\\\chromedriver.exe')\n",
    "driver = webdriver.Chrome(ChromeDriverManager().install())\n",
    "driver.get('https://scholar.google.com')\n",
    "time.sleep(random.uniform(2, 3))\n",
    "\n",
    "for j, personURL in enumerate(get1.ProfileLinks.values):\n",
    "    driver.get(personURL)\n",
    "    \n",
    "    button = driver.find_element(By.XPATH,\"//button[@id='gsc_bpf_more']\")\n",
    "    while True:\n",
    "        if not button.is_enabled():\n",
    "            break\n",
    "        button.click()\n",
    "        time.sleep(random.uniform(0.5, 1))\n",
    "    \n",
    "    text = driver.page_source\n",
    "    soup = BeautifulSoup(text, 'html.parser')\n",
    "\n",
    "    objects = soup.find_all('tr', {\"class\": \"gsc_a_tr\"})\n",
    "\n",
    "    base = ['' for i in range(len(objects))]\n",
    "    pubs = pd.DataFrame()\n",
    "    pubs['titles'] = base\n",
    "    pubs['authors'] = base\n",
    "    pubs['date'] = base\n",
    "    pubs['source'] = base\n",
    "    pubs['descriptions'] = base\n",
    "    pubs['citations'] = base\n",
    "\n",
    "    for i, obj in enumerate(objects):\n",
    "        pubs.loc[i, 'titles'] = obj.find_all('a')[0].text.replace('\\xa0', ' ').replace('   ', ' ').replace('  ', ' ').replace('\\u200b', '')\n",
    "        time.sleep(random.uniform(0.75, 1.5))\n",
    "        driver.find_element_by_link_text(pubs.loc[i, 'titles']).click()\n",
    "        soup = BeautifulSoup(driver.page_source, 'html.parser')\n",
    "        p = soup.find_all('div', {\"class\": \"gsc_oci_value\"})\n",
    "        if len(soup.find_all('div', {\"class\": \"gsc_oci_value\"})) >= 3:\n",
    "            pubs.loc[i, 'authors'] = soup.find_all('div', {\"class\": \"gsc_oci_value\"})[0].text\n",
    "            pubs.loc[i, 'date'] = soup.find_all('div', {\"class\": \"gsc_oci_value\"})[1].text\n",
    "            pubs.loc[i, 'source'] = soup.find_all('div', {\"class\": \"gsc_oci_field\"})[2].text + ' ' + soup.find_all('div', {\"class\": \"gsc_oci_value\"})[2].text\n",
    "        if soup.find_all('div', {\"class\": \"gsh_csp\"}):\n",
    "            pubs.loc[i, 'descriptions'] = soup.find_all('div', {\"class\": \"gsh_csp\"})[0].text\n",
    "        elif soup.find_all('div', {\"class\": \"gsh_small\"}):\n",
    "            pubs.loc[i, 'descriptions'] = soup.find_all('div', {\"class\": \"gsh_small\"})[0].text\n",
    "        if soup.find_all('div', {\"style\": \"margin-bottom:1em\"}):\n",
    "            pubs.loc[i, 'citations'] = soup.find_all('div', {\"style\": \"margin-bottom:1em\"})[0].text[9:]\n",
    "        time.sleep(random.uniform(1, 2))\n",
    "        driver.back()\n",
    "    pubs.to_csv(get1.loc[j, 'names'] + '.csv', index=False)\n"
   ]
  },
  {
   "cell_type": "code",
   "execution_count": 50,
   "id": "8b98435c",
   "metadata": {},
   "outputs": [],
   "source": [
    "driver.close()"
   ]
  }
 ],
 "metadata": {
  "kernelspec": {
   "display_name": "Python 3",
   "language": "python",
   "name": "python3"
  },
  "language_info": {
   "codemirror_mode": {
    "name": "ipython",
    "version": 3
   },
   "file_extension": ".py",
   "mimetype": "text/x-python",
   "name": "python",
   "nbconvert_exporter": "python",
   "pygments_lexer": "ipython3",
   "version": "3.9.13"
  }
 },
 "nbformat": 4,
 "nbformat_minor": 5
}
